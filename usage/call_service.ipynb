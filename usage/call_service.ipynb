{
 "cells": [
  {
   "cell_type": "code",
   "execution_count": 1,
   "metadata": {},
   "outputs": [],
   "source": [
    "import requests\n",
    "import time\n",
    "from IPython.display import clear_output\n",
    "import randtest"
   ]
  },
  {
   "cell_type": "code",
   "execution_count": 2,
   "metadata": {},
   "outputs": [],
   "source": [
    "base_url = 'http://192.168.10.192' ## get this from either the serial monitor of the ESP32 or your router\n",
    "get_rnd_url = base_url + '/getRandomInt'\n",
    "get_queue_depth_url = base_url + '/getBufferSize'"
   ]
  },
  {
   "cell_type": "code",
   "execution_count": 3,
   "metadata": {},
   "outputs": [],
   "source": [
    "def get_randomInt(max = None):\n",
    "    if max is None:\n",
    "        ret = requests.get(get_rnd_url).json()\n",
    "    else:\n",
    "        ret = requests.get(get_rnd_url, params={'max': max}).json()\n",
    "    assert ret['type']== 'RandomInt'\n",
    "    return ret['value']"
   ]
  },
  {
   "cell_type": "code",
   "execution_count": 4,
   "metadata": {},
   "outputs": [],
   "source": [
    "def getBufferSize():\n",
    "    ret = requests.get(get_queue_depth_url).json()\n",
    "    assert ret['type']== 'BufferSize'\n",
    "    return ret['value']"
   ]
  },
  {
   "cell_type": "code",
   "execution_count": 5,
   "metadata": {},
   "outputs": [
    {
     "name": "stdout",
     "output_type": "stream",
     "text": [
      "Remaining Buffer: 4208, retrieved_Random : 27\n",
      "Remaining Buffer: 4207, retrieved_Random : 15\n",
      "Remaining Buffer: 4206, retrieved_Random : 23\n",
      "Remaining Buffer: 4205, retrieved_Random : 21\n",
      "Remaining Buffer: 4204, retrieved_Random : 1\n",
      "Remaining Buffer: 4203, retrieved_Random : 38\n",
      "Remaining Buffer: 4202, retrieved_Random : 18\n",
      "Remaining Buffer: 4201, retrieved_Random : 11\n",
      "Remaining Buffer: 4200, retrieved_Random : 6\n",
      "Remaining Buffer: 4199, retrieved_Random : 20\n"
     ]
    },
    {
     "data": {
      "text/plain": [
       "True"
      ]
     },
     "execution_count": 5,
     "metadata": {},
     "output_type": "execute_result"
    }
   ],
   "source": [
    "max_rnd_int = 50 ## get ints in range 0 to 49\n",
    "times_to_run = 10 ## get 50 random ints\n",
    "outputs = []\n",
    "for i in range(times_to_run):\n",
    "    rnd_int = get_randomInt(max=max_rnd_int)\n",
    "    print(f'Remaining Buffer: {getBufferSize()}, retrieved_Random : {rnd_int}')\n",
    "    outputs.append(rnd_int)\n",
    "\n",
    "randtest.random_score(outputs)"
   ]
  },
  {
   "cell_type": "code",
   "execution_count": 6,
   "metadata": {},
   "outputs": [
    {
     "name": "stdout",
     "output_type": "stream",
     "text": [
      "Current buffer size: 4234\n"
     ]
    },
    {
     "ename": "KeyboardInterrupt",
     "evalue": "",
     "output_type": "error",
     "traceback": [
      "\u001b[1;31m---------------------------------------------------------------------------\u001b[0m",
      "\u001b[1;31mKeyboardInterrupt\u001b[0m                         Traceback (most recent call last)",
      "Cell \u001b[1;32mIn[6], line 5\u001b[0m\n\u001b[0;32m      3\u001b[0m clear_output(wait\u001b[38;5;241m=\u001b[39m\u001b[38;5;28;01mTrue\u001b[39;00m)\n\u001b[0;32m      4\u001b[0m \u001b[38;5;28mprint\u001b[39m(\u001b[38;5;124mf\u001b[39m\u001b[38;5;124m'\u001b[39m\u001b[38;5;124mCurrent buffer size: \u001b[39m\u001b[38;5;132;01m{\u001b[39;00mgetBufferSize()\u001b[38;5;132;01m}\u001b[39;00m\u001b[38;5;124m'\u001b[39m)\n\u001b[1;32m----> 5\u001b[0m \u001b[43mtime\u001b[49m\u001b[38;5;241;43m.\u001b[39;49m\u001b[43msleep\u001b[49m\u001b[43m(\u001b[49m\u001b[38;5;241;43m5\u001b[39;49m\u001b[43m)\u001b[49m\n",
      "\u001b[1;31mKeyboardInterrupt\u001b[0m: "
     ]
    }
   ],
   "source": [
    "#buffer monitor - BLOCKING CODE! might take upto 5 secs to die when killed\n",
    "while(True):\n",
    "    clear_output(wait=True)\n",
    "    print(f'Current buffer size: {getBufferSize()}')\n",
    "    time.sleep(5)"
   ]
  }
 ],
 "metadata": {
  "kernelspec": {
   "display_name": "msft",
   "language": "python",
   "name": "python3"
  },
  "language_info": {
   "codemirror_mode": {
    "name": "ipython",
    "version": 3
   },
   "file_extension": ".py",
   "mimetype": "text/x-python",
   "name": "python",
   "nbconvert_exporter": "python",
   "pygments_lexer": "ipython3",
   "version": "3.10.13"
  }
 },
 "nbformat": 4,
 "nbformat_minor": 2
}
